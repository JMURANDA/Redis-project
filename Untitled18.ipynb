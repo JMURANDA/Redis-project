{
  "nbformat": 4,
  "nbformat_minor": 0,
  "metadata": {
    "colab": {
      "provenance": [],
      "toc_visible": true
    },
    "kernelspec": {
      "name": "python3",
      "display_name": "Python 3"
    },
    "language_info": {
      "name": "python"
    }
  },
  "cells": [
    {
      "cell_type": "code",
      "source": [
        "!pip install redis"
      ],
      "metadata": {
        "colab": {
          "base_uri": "https://localhost:8080/"
        },
        "id": "MHrZPOqFuw59",
        "outputId": "2a3aeebd-d1f6-4a70-bee5-fedc35cd3cbe"
      },
      "execution_count": 1,
      "outputs": [
        {
          "output_type": "stream",
          "name": "stdout",
          "text": [
            "Looking in indexes: https://pypi.org/simple, https://us-python.pkg.dev/colab-wheels/public/simple/\n",
            "Collecting redis\n",
            "  Downloading redis-4.5.4-py3-none-any.whl (238 kB)\n",
            "\u001b[2K     \u001b[90m━━━━━━━━━━━━━━━━━━━━━━━━━━━━━━━━━━━━━━\u001b[0m \u001b[32m238.9/238.9 kB\u001b[0m \u001b[31m10.2 MB/s\u001b[0m eta \u001b[36m0:00:00\u001b[0m\n",
            "\u001b[?25hCollecting async-timeout>=4.0.2\n",
            "  Downloading async_timeout-4.0.2-py3-none-any.whl (5.8 kB)\n",
            "Installing collected packages: async-timeout, redis\n",
            "Successfully installed async-timeout-4.0.2 redis-4.5.4\n"
          ]
        }
      ]
    },
    {
      "cell_type": "code",
      "source": [
        "import redis\n",
        "import pandas as pd\n",
        "import psycopg2"
      ],
      "metadata": {
        "id": "04GJUlWfu7Pm"
      },
      "execution_count": 2,
      "outputs": []
    },
    {
      "cell_type": "code",
      "source": [
        "# Redis Cloud Instance Information\n",
        "redis_host = \"redis-15757.c253.us-central1-1.gce.cloud.redislabs.com:15757\"\n",
        "redis_port = \"15487\"\n",
        "redis_password = \"test\"\n",
        "r = redis.Redis(host='[redis-15757.c253.us-central1-1.gce.cloud.redislabs.com:15757]', port=15487, password='[test]', ssl=True)"
      ],
      "metadata": {
        "id": "Z0cpTCZI2SPT"
      },
      "execution_count": 3,
      "outputs": []
    },
    {
      "cell_type": "code",
      "source": [
        "# Create a Redis client object\n",
        "redis_client = redis.Redis(host='redis-15757.c253.us-central1-1.gce.cloud.redislabs.com:15757', port=15757, db=0)"
      ],
      "metadata": {
        "id": "eRr8KL9HOBe8"
      },
      "execution_count": 4,
      "outputs": []
    },
    {
      "cell_type": "code",
      "source": [
        "# Postgres Database Information\n",
        "pg_host = '34.29.27.210'\n",
        "pg_database = 'joash_redis'\n",
        "pg_user = 'joashredis'\n",
        "pg_password = 'test'"
      ],
      "metadata": {
        "id": "DuFGqRNW315B"
      },
      "execution_count": 5,
      "outputs": []
    },
    {
      "cell_type": "code",
      "source": [
        "!curl ipecho.net/plain"
      ],
      "metadata": {
        "colab": {
          "base_uri": "https://localhost:8080/"
        },
        "id": "QZ7XCvct6upn",
        "outputId": "85898095-d1bf-4cec-bf5c-1fb8811e8c7d"
      },
      "execution_count": 6,
      "outputs": [
        {
          "output_type": "stream",
          "name": "stdout",
          "text": [
            "35.236.209.62"
          ]
        }
      ]
    },
    {
      "cell_type": "code",
      "source": [
        "def extract():\n",
        "    # Read CSV file with pandas\n",
        "    df = pd.read_csv('customer_call_logs.csv')\n",
        "    \n",
        "    # Cache data in Redis\n",
        "    redis_client.set('customer_call_logs', df.to_msgpack(compress='zlib'))"
      ],
      "metadata": {
        "id": "EnEWzO9oD1lH"
      },
      "execution_count": 7,
      "outputs": []
    },
    {
      "cell_type": "code",
      "source": [
        "def transform_data():\n",
        "    # Retrieve data from Redis cache\n",
        "    data = pd.read_json(redis_client.get('customer_call_logs'))\n",
        "\n",
        "    # Transform data (clean, structure, format)\n",
        "    # Clean and structure data\n",
        "    df = df.drop_duplicates()  # Remove duplicate rows\n",
        "    df['duration_minutes'] = df['duration_seconds'] / 60  # Add a new column for duration in minutes\n",
        "    df = df[['customer_id', 'call_date', 'duration_minutes', 'cost', 'destination']]  # Select relevant columns\n",
        "    \n",
        "    # Format data\n",
        "    df['call_date'] = pd.to_datetime(df['call_date'], format='%Y-%m-%d %H:%M:%S')\n",
        "    df['cost'] = df['cost'].apply(lambda x: round(x, 2))  # Round cost to 2 decimal places\n",
        "    #return transformed_data\n",
        "    \n",
        "    \n",
        "   "
      ],
      "metadata": {
        "id": "l1eolKZ3FeoS"
      },
      "execution_count": 8,
      "outputs": []
    },
    {
      "cell_type": "code",
      "source": [
        "def load_data(df, dbname, user, password, host):\n",
        "    # connect to database\n",
        "    conn = psycopg2.connect(dbname=pg_database, user=pg_user, password=pg_password, host=pg_host)\n",
        "    # create table\n",
        "    cur = conn.cursor()\n",
        "    cur.execute('''\n",
        "        CREATE TABLE IF NOT EXISTS customer_call_logs\n",
        "        (\n",
        "            call_date DATE,\n",
        "            call_duration INTEGER,\n",
        "            call_destination VARCHAR(20),\n",
        "            call_cost FLOAT\n",
        "        );\n",
        "    ''')\n",
        "    conn.commit()\n",
        "    #\n",
        "    # load data into table\n",
        "    for row in df.itertuples(index=False):\n",
        "        cur.execute('''\n",
        "            INSERT INTO customer_call_logs (call_date, call_duration, call_destination, call_cost)\n",
        "            VALUES (%s, %s, %s, %s)\n",
        "        ''', row)\n",
        "    conn.commit()\n",
        "    cur.close()\n",
        "    conn.close()"
      ],
      "metadata": {
        "id": "g55yfxa9luO3"
      },
      "execution_count": 12,
      "outputs": []
    },
    {
      "cell_type": "code",
      "source": [
        "def data_pipeline():\n",
        "    # Data pipeline function\n",
        "    extract_data()\n",
        "    transformed_data = transform_data()\n",
        "    load_data(transformed_data)"
      ],
      "metadata": {
        "id": "rreLJWw_MO22"
      },
      "execution_count": 14,
      "outputs": []
    },
    {
      "cell_type": "code",
      "source": [
        "if __name__ == '__main__':\n",
        "    # Run the data pipeline function\n",
        "    data_pipeline()"
      ],
      "metadata": {
        "id": "bEOGf2q7MUms"
      },
      "execution_count": null,
      "outputs": []
    }
  ]
}